{
 "cells": [
  {
   "cell_type": "markdown",
   "metadata": {},
   "source": [
    "## 2. Sentiment Calculation for Reviews"
   ]
  },
  {
   "cell_type": "markdown",
   "metadata": {},
   "source": [
    "File to calculate sentiment for every review.\n",
    "\n",
    "Function Explanation:\n",
    "The function calculate_sentiment takes in a sentiment file. We are using the standard AFINN-111 sentiment file. This file has scores assigned to every word from a range of -5 to +5 which we use to calculate the sentiment.\n",
    "The second parameter that the function takes is the csv file containing the reviews.\n",
    "By going through all the lines of the review, the function assignes a sentiment score (total) towards the review."
   ]
  },
  {
   "cell_type": "code",
   "execution_count": 6,
   "metadata": {
    "collapsed": false
   },
   "outputs": [],
   "source": [
    "import sys\n",
    "import pandas as pd\n",
    "   \n",
    "#This method created a dictionary of the word and sentiment score\n",
    "def createdict(df):\n",
    "    sent_dict = dict(zip(df[0], df[1]))\n",
    "    return sent_dict\n",
    "\n",
    "#This method calculates sentiments based on the words in the tweet\n",
    "def calculate_sentiment(sent_dict, review_file):\n",
    "    review_sent_list = []\n",
    "    for i in range (review_file.shape[0]):\n",
    "        review_sent_sum = 0\n",
    "        text = review_file['text'][i]\n",
    "        review_list = text.split(\" \")\n",
    "        for word in review_list:\n",
    "            if word in sent_dict:\n",
    "                review_sent_sum = review_sent_sum + sent_dict.get(word.lower(), 0)\n",
    "        review_sent_list.append(review_sent_sum)\n",
    "    review_file['Review_Sentiment'] = review_sent_list\n",
    "    review_file.to_csv('rest_review_sentiment.csv', sep=',', encoding='utf-8')\n",
    "    return review_file\n",
    "\n",
    "def main():\n",
    "    sent_file = pd.read_table('AFINN-111.txt', header=None)\n",
    "    review_file = pd.read_csv('restaurant_reviews.csv')\n",
    "    sent_dict = createdict(sent_file)\n",
    "    review_file = calculate_sentiment(sent_dict, review_file)\n",
    "\n",
    "if __name__ == '__main__':\n",
    "    main()"
   ]
  },
  {
   "cell_type": "markdown",
   "metadata": {},
   "source": [
    "Now, Refer to the jupyter notebook **Algorithms_Yelp** for further analysis."
   ]
  }
 ],
 "metadata": {
  "kernelspec": {
   "display_name": "Python 2",
   "language": "python",
   "name": "python2"
  },
  "language_info": {
   "codemirror_mode": {
    "name": "ipython",
    "version": 2
   },
   "file_extension": ".py",
   "mimetype": "text/x-python",
   "name": "python",
   "nbconvert_exporter": "python",
   "pygments_lexer": "ipython2",
   "version": "2.7.13"
  }
 },
 "nbformat": 4,
 "nbformat_minor": 2
}
